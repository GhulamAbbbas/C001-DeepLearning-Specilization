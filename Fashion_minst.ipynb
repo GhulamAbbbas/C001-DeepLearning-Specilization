{
  "nbformat": 4,
  "nbformat_minor": 0,
  "metadata": {
    "colab": {
      "name": "Fashion minst.ipynb",
      "provenance": [],
      "authorship_tag": "ABX9TyP2C6k4L2tpnVdLgVjYQKKN",
      "include_colab_link": true
    },
    "kernelspec": {
      "name": "python3",
      "display_name": "Python 3"
    },
    "language_info": {
      "name": "python"
    },
    "accelerator": "GPU",
    "gpuClass": "standard"
  },
  "cells": [
    {
      "cell_type": "markdown",
      "metadata": {
        "id": "view-in-github",
        "colab_type": "text"
      },
      "source": [
        "<a href=\"https://colab.research.google.com/github/GhulamAbbbas/C001-DeepLearning-Specilization/blob/main/Fashion_minst.ipynb\" target=\"_parent\"><img src=\"https://colab.research.google.com/assets/colab-badge.svg\" alt=\"Open In Colab\"/></a>"
      ]
    },
    {
      "cell_type": "code",
      "execution_count": null,
      "metadata": {
        "id": "Bw1AYN-wfRpF"
      },
      "outputs": [],
      "source": [
        "import os \n",
        "import tensorflow as tf\n",
        "from  tensorflow import keras"
      ]
    },
    {
      "cell_type": "code",
      "source": [
        "fashion_mnist = tf.keras.datasets.fashion_mnist\n",
        "(train_images, train_labels) , (test_images , test_variables) = fashion_mnist.load_data()"
      ],
      "metadata": {
        "id": "OHQfwxr9fpOx"
      },
      "execution_count": null,
      "outputs": []
    },
    {
      "cell_type": "markdown",
      "source": [
        "Numpy is an open-source python library that is used for scientific computations. \n",
        "\n",
        "Numpy arrays are similar to lists except that it contains objects of similar data types and is much faster than lists."
      ],
      "metadata": {
        "id": "YEYHaRL5muod"
      }
    },
    {
      "cell_type": "code",
      "source": [
        "import numpy as np\n",
        "import matplotlib.pyplot as plt\n",
        "\n",
        "index = 12\n",
        "np.set_printoptions(linewidth= 320) # number of character per row\n",
        "\n",
        "print(f\" LABEL:{train_labels[index]}\")\n",
        "print(f\"\\nIMAGE PIXEL ARRAY:\\n {train_images[index]}\")\n",
        "\n",
        "\n",
        "# Visulazie the image \n",
        "\n",
        "plt.imshow(train_images[index])"
      ],
      "metadata": {
        "colab": {
          "base_uri": "https://localhost:8080/",
          "height": 820
        },
        "id": "HX6kOSuLfkfV",
        "outputId": "59d82efb-686e-49f9-c9e2-3d1d592cab72"
      },
      "execution_count": null,
      "outputs": [
        {
          "output_type": "stream",
          "name": "stdout",
          "text": [
            " LABEL:5\n",
            "\n",
            "IMAGE PIXEL ARRAY:\n",
            " [[  0   0   0   0   0   0   0   0   0   0   0   0   0   0   0   0   0   0   0   0   0   0   0   0   0   0   0   0]\n",
            " [  0   0   0   0   0   0   0   0   0   0   0   0   0   0   0   0   0   0   0   0   0   0   0   0   0   0   0   0]\n",
            " [  0   0   0   0   0   0   0   0   0   0   0   0   0   0   0   0   0   0   0   0   0   0   0   0   0   0   0   0]\n",
            " [  0   0   0   0   0   0   0   0   0   0   0   0   0   0   0   0   0   0   0   0   0   0   0   0   0   0   0   0]\n",
            " [  0   0   0   0   0   0   0   0   0   0   0   0   0   0   0   0   0   0   0   0   0   0   0   0   0   0   0   0]\n",
            " [  0   0   0   0   0   0   0   0   0   0   0   0   0   0   0   0   0   0   0   0   0   0   0   0   0   0   0   0]\n",
            " [  0   0   0   0   0   0   0   0   0   0   0   0   0   0   0  32  60   0   0   0   0   0   0   0   0   0   0   0]\n",
            " [  0   0   0   0   0   0   0   0   0   0   0   0   0   0  85 216 144  43   0   0   0   0   0   0   0  91  54   0]\n",
            " [  0   0   0   0   0   0   0   0   0   0   2   0  27 172 200 182 189 197   0   0   0  12 110 130 139 127  66   0]\n",
            " [  0   0   0   0   0   0   0   0   0   0   3   0  45 212 180 158 213 235  92  27 103 184 193 132  43   0   0   0]\n",
            " [  0   0   0   0   0   0   2   1   0   0   0   0   0 194 222 163 163 182 239 211 164  69  25   0   0   1   5   0]\n",
            " [  0   0   0   0   2   0   0   0   0   0   0   0   0  55 244 242 229 200 216  63   0   0   0   0   0   0   0   0]\n",
            " [  1   0   0   1   0   0  24 117 190   0   0   0   0   0 157 230 226 202 206 148   0   0   3  18  30  39  65  48]\n",
            " [  1   2   1   1   0 144 197 184 206 150   0   0   0   0   5  94 157 189 203 243 177 108 136 149 154 150 145 108]\n",
            " [  0   0   0   0   0 101 235 197 171 230  30   0   0   0   0  47 200 206 148 154 109  75  54  61  61  57  75  54]\n",
            " [  6  16   1   0   0   0 190 126   0 200 101   0  29  85 119 127 154 101  90  97  66 118 105 121  91  94 122  48]\n",
            " [ 41 112 113 115 106  94 197 206 114 194 255 119 123 118  79  86  55 108  74  74  81  57 103  54  82  86  83  46]\n",
            " [ 29  72  34  74  59  83 100  63  96  83 114  64  70  63 100  69 100  91  81  87  92  94  87 115  68  70  96  24]\n",
            " [ 20  99  90 104  86 103  82  91  48  78  64 109  92  79  74  95 108  91  88  95  97  75  79 100  92  96  97  14]\n",
            " [  6  97  75  91  79  90  63  94  90  91 100  72  75  83  81  79  55  73  48  88  81  83  68  61  69  39  79   2]\n",
            " [  0  82 115 109 109 123  78  95  92  91 105  90 110 117 130 132 137 141 142 128 126 151 180 170 163 162 114   0]\n",
            " [  0   0   2  39  63  85 112 101 109 105  90  94  77  59  47  43  19   2   0   0   0   3  25  20  27  24   9   0]\n",
            " [  0   0   0   0   0   0   0   0   0   0   0   0   0   0   0   0   0   0   0   0   0   0   0   0   0   0   0   0]\n",
            " [  0   0   0   0   0   0   0   0   0   0   0   0   0   0   0   0   0   0   0   0   0   0   0   0   0   0   0   0]\n",
            " [  0   0   0   0   0   0   0   0   0   0   0   0   0   0   0   0   0   0   0   0   0   0   0   0   0   0   0   0]\n",
            " [  0   0   0   0   0   0   0   0   0   0   0   0   0   0   0   0   0   0   0   0   0   0   0   0   0   0   0   0]\n",
            " [  0   0   0   0   0   0   0   0   0   0   0   0   0   0   0   0   0   0   0   0   0   0   0   0   0   0   0   0]\n",
            " [  0   0   0   0   0   0   0   0   0   0   0   0   0   0   0   0   0   0   0   0   0   0   0   0   0   0   0   0]]\n"
          ]
        },
        {
          "output_type": "execute_result",
          "data": {
            "text/plain": [
              "<matplotlib.image.AxesImage at 0x7f5d4c3b0fd0>"
            ]
          },
          "metadata": {},
          "execution_count": 8
        },
        {
          "output_type": "display_data",
          "data": {
            "text/plain": [
              "<Figure size 432x288 with 1 Axes>"
            ],
            "image/png": "[encoded data removed]"
          },
          "metadata": {
            "needs_background": "light"
          }
        }
      ]
    },
    {
      "cell_type": "code",
      "source": [
        "# scale the image ornormalize the image\n",
        "train_images = train_images / 255.0\n",
        "test_images = test_images /255.0"
      ],
      "metadata": {
        "id": "8HNrDINymXdl"
      },
      "execution_count": null,
      "outputs": []
    },
    {
      "cell_type": "markdown",
      "source": [
        "When to use a Sequential model\n",
        "A Sequential model is appropriate for a plain stack of layers where each layer has exactly one input tensor and one output tensor.\n",
        "\n",
        "ReLU. \n",
        "\n",
        "The ReLU function is another non-linear activation function that has gained popularity in the deep learning domain. ReLU stands for Rectified Linear Unit. The main advantage of using the ReLU function over other activation functions is that it does not activate all the neurons at the same time\n",
        "\n",
        "What is ReLU and softmax?\n",
        "\n",
        "Image result for softmax\n",
        "\n",
        "As per our business requirement, we can choose our required activation function. Generally , we use ReLU in hidden layer to avoid vanishing gradient problem and better computation performance , and Softmax function use in last output layer ."
      ],
      "metadata": {
        "id": "heHzm7pupLUt"
      }
    },
    {
      "cell_type": "code",
      "source": [
        "# Build the classification model \n",
        "\n",
        "model = tf.keras.models.Sequential([tf.keras.layers.Flatten(),\n",
        "                                    tf.keras. layers.Dense(128,  activation=tf.nn.relu),\n",
        "                                    tf.keras.layers.Dense(10, activation =  tf.nn.softmax)])"
      ],
      "metadata": {
        "id": "6foh9UVLnmJ7"
      },
      "execution_count": null,
      "outputs": []
    },
    {
      "cell_type": "markdown",
      "source": [
        "Adam algorithm\n",
        "\n",
        "Adam is a replacement optimization algorithm for stochastic gradient descent for training deep learning models. Adam combines the best properties of the AdaGrad and RMSProp algorithms to provide an optimization algorithm that can handle sparse gradients on noisy problems.\n",
        "\n",
        "Is Adam a learning algorithm?\n",
        "\n",
        "\n",
        "\n",
        "Adam [1] is an adaptive learning rate optimization algorithm that's been designed specifically for training deep neural networks. First published in 2014, Adam was presented at a very prestigious conference for deep learning practitioners — ICLR 2015."
      ],
      "metadata": {
        "id": "g_Aq8knrwm_E"
      }
    },
    {
      "cell_type": "code",
      "source": [
        "model.compile(optimizer = tf.optimizers.Adam(),\n",
        "              loss = 'sparse_categorical_crossentropy',\n",
        "              metrics=[\"accuracy\"])\n",
        "model.fit(train_images, train_labels , epochs=10)"
      ],
      "metadata": {
        "colab": {
          "base_uri": "https://localhost:8080/"
        },
        "id": "KtKUHZ2KoxCF",
        "outputId": "2507206c-d0db-46ac-a40e-f975556911c3"
      },
      "execution_count": null,
      "outputs": [
        {
          "output_type": "stream",
          "name": "stdout",
          "text": [
            "Epoch 1/10\n",
            "1875/1875 [==============================] - 7s 2ms/step - loss: 1.0631 - accuracy: 0.6653\n",
            "Epoch 2/10\n",
            "1875/1875 [==============================] - 4s 2ms/step - loss: 0.6300 - accuracy: 0.7721\n",
            "Epoch 3/10\n",
            "1875/1875 [==============================] - 4s 2ms/step - loss: 0.5565 - accuracy: 0.8005\n",
            "Epoch 4/10\n",
            "1875/1875 [==============================] - 4s 2ms/step - loss: 0.5162 - accuracy: 0.8167\n",
            "Epoch 5/10\n",
            "1875/1875 [==============================] - 4s 2ms/step - loss: 0.4888 - accuracy: 0.8282\n",
            "Epoch 6/10\n",
            "1875/1875 [==============================] - 4s 2ms/step - loss: 0.4697 - accuracy: 0.8340\n",
            "Epoch 7/10\n",
            "1875/1875 [==============================] - 4s 2ms/step - loss: 0.4548 - accuracy: 0.8407\n",
            "Epoch 8/10\n",
            "1875/1875 [==============================] - 4s 2ms/step - loss: 0.4425 - accuracy: 0.8449\n",
            "Epoch 9/10\n",
            "1875/1875 [==============================] - 4s 2ms/step - loss: 0.4330 - accuracy: 0.8471\n",
            "Epoch 10/10\n",
            "1875/1875 [==============================] - 4s 2ms/step - loss: 0.4236 - accuracy: 0.8517\n"
          ]
        },
        {
          "output_type": "execute_result",
          "data": {
            "text/plain": [
              "<keras.callbacks.History at 0x7f5d405a3ed0>"
            ]
          },
          "metadata": {},
          "execution_count": 16
        }
      ]
    },
    {
      "cell_type": "code",
      "source": [
        "model.evaluate(test_images, test_variables)"
      ],
      "metadata": {
        "colab": {
          "base_uri": "https://localhost:8080/"
        },
        "id": "JZ_4zyS5yWqX",
        "outputId": "53e04efd-0b2f-482f-9acf-9ce0d1cdb762"
      },
      "execution_count": null,
      "outputs": [
        {
          "output_type": "stream",
          "name": "stdout",
          "text": [
            "313/313 [==============================] - 1s 2ms/step - loss: 0.4668 - accuracy: 0.8314\n"
          ]
        },
        {
          "output_type": "execute_result",
          "data": {
            "text/plain": [
              "[0.46677300333976746, 0.8313999772071838]"
            ]
          },
          "metadata": {},
          "execution_count": 17
        }
      ]
    },
    {
      "cell_type": "code",
      "source": [
        ""
      ],
      "metadata": {
        "id": "CR2k65yQ3tnz"
      },
      "execution_count": null,
      "outputs": []
    }
  ]
}