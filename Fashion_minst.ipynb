{
  "nbformat": 4,
  "nbformat_minor": 0,
  "metadata": {
    "colab": {
      "name": "Fashion minst.ipynb",
      "provenance": [],
      "authorship_tag": "ABX9TyNd0IBfF1LoBwjvBkp28fJU",
      "include_colab_link": true
    },
    "kernelspec": {
      "name": "python3",
      "display_name": "Python 3"
    },
    "language_info": {
      "name": "python"
    },
    "accelerator": "GPU",
    "gpuClass": "standard"
  },
  "cells": [
    {
      "cell_type": "markdown",
      "metadata": {
        "id": "view-in-github",
        "colab_type": "text"
      },
      "source": [
        "<a href=\"https://colab.research.google.com/github/GhulamAbbbas/C001-DeepLearning-Specilization/blob/main/Fashion_minst.ipynb\" target=\"_parent\"><img src=\"https://colab.research.google.com/assets/colab-badge.svg\" alt=\"Open In Colab\"/></a>"
      ]
    },
    {
      "cell_type": "code",
      "execution_count": 2,
      "metadata": {
        "id": "Bw1AYN-wfRpF"
      },
      "outputs": [],
      "source": [
        "import os \n",
        "import tensorflow as tf\n",
        "from  tensorflow import keras"
      ]
    },
    {
      "cell_type": "code",
      "source": [
        "fashion_mnist = tf.keras.datasets.fashion_mnist\n",
        "(x_train, y_train) , (test_images , test_variables) = fashion_mnist.load_data()"
      ],
      "metadata": {
        "id": "OHQfwxr9fpOx"
      },
      "execution_count": 32,
      "outputs": []
    },
    {
      "cell_type": "markdown",
      "source": [
        "Numpy is an open-source python library that is used for scientific computations. \n",
        "\n",
        "Numpy arrays are similar to lists except that it contains objects of similar data types and is much faster than lists."
      ],
      "metadata": {
        "id": "YEYHaRL5muod"
      }
    },
    {
      "cell_type": "code",
      "source": [
        "# import numpy as np\n",
        "# import matplotlib.pyplot as plt\n",
        "\n",
        "# index = 12\n",
        "# np.set_printoptions(linewidth= 320) # number of character per row\n",
        "\n",
        "# print(f\" LABEL:{train_labels[index]}\")\n",
        "# print(f\"\\nIMAGE PIXEL ARRAY:\\n {train_images[index]}\")\n",
        "\n",
        "\n",
        "# # Visulazie the image \n",
        "\n",
        "# plt.imshow(train_images[index])"
      ],
      "metadata": {
        "id": "HX6kOSuLfkfV"
      },
      "execution_count": 33,
      "outputs": []
    },
    {
      "cell_type": "code",
      "source": [
        "# scale the image ornormalize the image\n",
        "train_images =x_train / 255.0\n",
        "test_images = test_images /255.0"
      ],
      "metadata": {
        "id": "8HNrDINymXdl"
      },
      "execution_count": 34,
      "outputs": []
    },
    {
      "cell_type": "code",
      "source": [
        "from gc import callbacks\n",
        "class myCallback(tf.keras.callbacks.Callback):\n",
        "  def on_epoch_end(self , epoch , logs ={}):\n",
        "\n",
        "   if (logs.get('loss') <0.4):\n",
        "\n",
        "      print(\"\\nLoss is lower than 0.4 so cancelling training\")\n",
        "      self.model.stop_training = True\n",
        "callbacks = myCallback()"
      ],
      "metadata": {
        "id": "E8uhuxNuG3N3"
      },
      "execution_count": 38,
      "outputs": []
    },
    {
      "cell_type": "markdown",
      "source": [
        "When to use a Sequential model\n",
        "A Sequential model is appropriate for a plain stack of layers where each layer has exactly one input tensor and one output tensor.\n",
        "\n",
        "ReLU. \n",
        "\n",
        "The ReLU function is another non-linear activation function that has gained popularity in the deep learning domain. ReLU stands for Rectified Linear Unit. The main advantage of using the ReLU function over other activation functions is that it does not activate all the neurons at the same time\n",
        "\n",
        "What is ReLU and softmax?\n",
        "\n",
        "Image result for softmax\n",
        "\n",
        "As per our business requirement, we can choose our required activation function. Generally , we use ReLU in hidden layer to avoid vanishing gradient problem and better computation performance , and Softmax function use in last output layer ."
      ],
      "metadata": {
        "id": "heHzm7pupLUt"
      }
    },
    {
      "cell_type": "code",
      "source": [
        "# Build the classification model \n",
        "\n",
        "model = tf.keras.models.Sequential([\n",
        "    tf.keras.layers.Flatten(input_shape = (28, 28)),\n",
        "    tf.keras. layers.Dense(512,  activation=tf.nn.relu),\n",
        "    tf.keras.layers.Dense(10, activation =  tf.nn.softmax)\n",
        "    ])\n",
        "model.compile(optimizer = tf.optimizers.Adam(),\n",
        "              loss = 'sparse_categorical_crossentropy',\n",
        "              metrics=[\"accuracy\"])"
      ],
      "metadata": {
        "id": "6foh9UVLnmJ7"
      },
      "execution_count": 39,
      "outputs": []
    },
    {
      "cell_type": "markdown",
      "source": [
        "Adam algorithm\n",
        "\n",
        "Adam is a replacement optimization algorithm for stochastic gradient descent for training deep learning models. Adam combines the best properties of the AdaGrad and RMSProp algorithms to provide an optimization algorithm that can handle sparse gradients on noisy problems.\n",
        "\n",
        "Is Adam a learning algorithm?\n",
        "\n",
        "\n",
        "\n",
        "Adam [1] is an adaptive learning rate optimization algorithm that's been designed specifically for training deep neural networks. First published in 2014, Adam was presented at a very prestigious conference for deep learning practitioners — ICLR 2015."
      ],
      "metadata": {
        "id": "g_Aq8knrwm_E"
      }
    },
    {
      "cell_type": "code",
      "source": [
        "\n",
        "\n"
      ],
      "metadata": {
        "id": "KtKUHZ2KoxCF"
      },
      "execution_count": 39,
      "outputs": []
    },
    {
      "cell_type": "code",
      "source": [
        "model.fit(x_train, y_train, epochs=10 , callbacks = [callbacks])"
      ],
      "metadata": {
        "colab": {
          "base_uri": "https://localhost:8080/"
        },
        "id": "c021POK9KXiV",
        "outputId": "2182f2ff-397f-40ee-988c-45ef526ad5d5"
      },
      "execution_count": 40,
      "outputs": [
        {
          "output_type": "stream",
          "name": "stdout",
          "text": [
            "Epoch 1/10\n",
            "1875/1875 [==============================] - 9s 4ms/step - loss: 4.2477 - accuracy: 0.7618\n",
            "Epoch 2/10\n",
            "1875/1875 [==============================] - 9s 5ms/step - loss: 0.5265 - accuracy: 0.8212\n",
            "Epoch 3/10\n",
            "1875/1875 [==============================] - 8s 4ms/step - loss: 0.4970 - accuracy: 0.8302\n",
            "Epoch 4/10\n",
            "1875/1875 [==============================] - 8s 4ms/step - loss: 0.4920 - accuracy: 0.8360\n",
            "Epoch 5/10\n",
            "1875/1875 [==============================] - 8s 4ms/step - loss: 0.4791 - accuracy: 0.8401\n",
            "Epoch 6/10\n",
            "1875/1875 [==============================] - 8s 4ms/step - loss: 0.4625 - accuracy: 0.8436\n",
            "Epoch 7/10\n",
            "1875/1875 [==============================] - 8s 4ms/step - loss: 0.4752 - accuracy: 0.8435\n",
            "Epoch 8/10\n",
            "1875/1875 [==============================] - 8s 4ms/step - loss: 0.4513 - accuracy: 0.8476\n",
            "Epoch 9/10\n",
            "1875/1875 [==============================] - 8s 4ms/step - loss: 0.4487 - accuracy: 0.8503\n",
            "Epoch 10/10\n",
            "1875/1875 [==============================] - 8s 4ms/step - loss: 0.4443 - accuracy: 0.8493\n"
          ]
        },
        {
          "output_type": "execute_result",
          "data": {
            "text/plain": [
              "<keras.callbacks.History at 0x7f1f79056410>"
            ]
          },
          "metadata": {},
          "execution_count": 40
        }
      ]
    },
    {
      "cell_type": "code",
      "source": [
        "model.evaluate(test_images, test_variables)"
      ],
      "metadata": {
        "colab": {
          "base_uri": "https://localhost:8080/"
        },
        "id": "JZ_4zyS5yWqX",
        "outputId": "53e04efd-0b2f-482f-9acf-9ce0d1cdb762"
      },
      "execution_count": null,
      "outputs": [
        {
          "output_type": "stream",
          "name": "stdout",
          "text": [
            "313/313 [==============================] - 1s 2ms/step - loss: 0.4668 - accuracy: 0.8314\n"
          ]
        },
        {
          "output_type": "execute_result",
          "data": {
            "text/plain": [
              "[0.46677300333976746, 0.8313999772071838]"
            ]
          },
          "metadata": {},
          "execution_count": 17
        }
      ]
    },
    {
      "cell_type": "code",
      "source": [
        ""
      ],
      "metadata": {
        "id": "CR2k65yQ3tnz"
      },
      "execution_count": null,
      "outputs": []
    }
  ]
}