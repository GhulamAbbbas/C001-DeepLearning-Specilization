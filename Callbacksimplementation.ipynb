{
  "nbformat": 4,
  "nbformat_minor": 0,
  "metadata": {
    "colab": {
      "name": "Callbacksimplementation.ipynb",
      "provenance": [],
      "mount_file_id": "1H-oeau0RRVFCwi3tdTIPSe2w_RqVICQr",
      "authorship_tag": "ABX9TyPORSQjPOmQ/PA2fhpxNcxz",
      "include_colab_link": true
    },
    "kernelspec": {
      "name": "python3",
      "display_name": "Python 3"
    },
    "language_info": {
      "name": "python"
    },
    "accelerator": "TPU",
    "gpuClass": "standard"
  },
  "cells": [
    {
      "cell_type": "markdown",
      "metadata": {
        "id": "view-in-github",
        "colab_type": "text"
      },
      "source": [
        "<a href=\"https://colab.research.google.com/github/GhulamAbbbas/C001-DeepLearning-Specilization/blob/main/Callbacksimplementation.ipynb\" target=\"_parent\"><img src=\"https://colab.research.google.com/assets/colab-badge.svg\" alt=\"Open In Colab\"/></a>"
      ]
    },
    {
      "cell_type": "code",
      "execution_count": 3,
      "metadata": {
        "id": "kQ1BojSNRKxe"
      },
      "outputs": [],
      "source": [
        "import os \n",
        "import tensorflow as tf\n",
        "from tensorflow import keras\n"
      ]
    },
    {
      "cell_type": "code",
      "source": [
        "mydata = \"/content/drive/MyDrive/Ab/mnist.npz\"\n",
        "\n",
        "(x_train, y_train), _= tf.keras.datasets.mnist.load_data(path =mydata )"
      ],
      "metadata": {
        "id": "yrp7N86ERYd3"
      },
      "execution_count": 5,
      "outputs": []
    },
    {
      "cell_type": "code",
      "source": [
        "x_train = x_train /255.0"
      ],
      "metadata": {
        "id": "DAbthJ5OSI9w"
      },
      "execution_count": 6,
      "outputs": []
    },
    {
      "cell_type": "code",
      "source": [
        "mydata_shape = x_train.shape\n",
        "print(f\"There we have {mydata_shape[0]}, and examples with shpes {mydata_shape[1]}, {mydata_shape[2]}\")"
      ],
      "metadata": {
        "colab": {
          "base_uri": "https://localhost:8080/"
        },
        "id": "g1q7mB4WTjeo",
        "outputId": "f66dee4d-bb4a-444a-989e-1ec5120921cd"
      },
      "execution_count": 10,
      "outputs": [
        {
          "output_type": "stream",
          "name": "stdout",
          "text": [
            "There we have 60000, and examples with shpes 28, 28\n"
          ]
        }
      ]
    },
    {
      "cell_type": "code",
      "source": [
        "class myCallback(tf.keras.callbacks.Callback):\n",
        "        # Define the correct function signature for on_epoch_end\n",
        "        def on_epoch_end(self , epoch , logs ={}):\n",
        "            if logs.get('accuracy') is not None and logs.get('accuracy') > 0.99:\n",
        "                print(\"\\nReached 99% accuracy so cancelling training!\") \n",
        "                self.model.stop_training =True\n",
        "   \n"
      ],
      "metadata": {
        "id": "v8eeiqKvT4xt"
      },
      "execution_count": 11,
      "outputs": []
    },
    {
      "cell_type": "code",
      "source": [
        "def train_mnist(x_train, y_train):\n",
        "\n",
        " \n",
        "    \n",
        "    # Instantiate the callback class\n",
        "    callbacks = myCallback()\n",
        "    \n",
        "    # Define the model\n",
        "    model = tf.keras.models.Sequential([ \n",
        "        tf.keras.layers.Flatten(input_shape= (28 , 28)),\n",
        "        tf.keras.layers.Dense(512 , activation= tf.nn.relu),\n",
        "        tf.keras.layers.Dense(10 , activation= tf.nn.softmax),\n",
        "\n",
        "    ]) \n",
        "\n",
        "    # Compile the model\n",
        "    model.compile(optimizer='adam', \n",
        "                  loss='sparse_categorical_crossentropy', \n",
        "                  metrics=['accuracy']) \n",
        "    \n",
        "    # Fit the model for 10 epochs adding the callbacks\n",
        "    # and save the training history\n",
        "    history = model.fit(x_train, y_train, epochs=10, callbacks=[callbacks])\n",
        "\n",
        "\n",
        "    return history"
      ],
      "metadata": {
        "id": "jQm0aEQCeiTK"
      },
      "execution_count": 12,
      "outputs": []
    },
    {
      "cell_type": "code",
      "source": [
        "history = train_mnist(x_train, y_train)"
      ],
      "metadata": {
        "colab": {
          "base_uri": "https://localhost:8080/"
        },
        "id": "2VbxFYjjeoid",
        "outputId": "686dc379-e050-4f32-f020-64ad0c50a255"
      },
      "execution_count": 13,
      "outputs": [
        {
          "output_type": "stream",
          "name": "stdout",
          "text": [
            "Epoch 1/10\n",
            "1875/1875 [==============================] - 9s 5ms/step - loss: 0.1992 - accuracy: 0.9417\n",
            "Epoch 2/10\n",
            "1875/1875 [==============================] - 8s 4ms/step - loss: 0.0795 - accuracy: 0.9757\n",
            "Epoch 3/10\n",
            "1875/1875 [==============================] - 8s 4ms/step - loss: 0.0517 - accuracy: 0.9830\n",
            "Epoch 4/10\n",
            "1875/1875 [==============================] - 9s 5ms/step - loss: 0.0368 - accuracy: 0.9881\n",
            "Epoch 5/10\n",
            "1869/1875 [============================>.] - ETA: 0s - loss: 0.0261 - accuracy: 0.9918\n",
            "Reached 99% accuracy so cancelling training!\n",
            "1875/1875 [==============================] - 9s 5ms/step - loss: 0.0261 - accuracy: 0.9918\n"
          ]
        }
      ]
    },
    {
      "cell_type": "code",
      "source": [
        ""
      ],
      "metadata": {
        "id": "Kp3yrCnteryG"
      },
      "execution_count": null,
      "outputs": []
    }
  ]
}