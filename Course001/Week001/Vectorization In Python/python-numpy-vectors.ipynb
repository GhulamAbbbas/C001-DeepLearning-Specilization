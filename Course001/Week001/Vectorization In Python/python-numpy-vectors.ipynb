{
 "cells": [
  {
   "cell_type": "code",
   "execution_count": 2,
   "id": "738798f2",
   "metadata": {},
   "outputs": [
    {
     "name": "stdout",
     "output_type": "stream",
     "text": [
      "[ 0.62813374  2.47775829 -1.01664443  0.2552363  -0.4724007 ]\n"
     ]
    }
   ],
   "source": [
    "import numpy as np\n",
    "a= np.random.randn(5)\n",
    "print(a)"
   ]
  },
  {
   "cell_type": "code",
   "execution_count": 3,
   "id": "4c9e9231",
   "metadata": {},
   "outputs": [
    {
     "name": "stdout",
     "output_type": "stream",
     "text": [
      "(5,)\n"
     ]
    }
   ],
   "source": [
    "print(a.shape)#rank1 array and not use this pl"
   ]
  },
  {
   "cell_type": "code",
   "execution_count": 4,
   "id": "92bf6a9d",
   "metadata": {},
   "outputs": [
    {
     "name": "stdout",
     "output_type": "stream",
     "text": [
      "[ 0.62813374  2.47775829 -1.01664443  0.2552363  -0.4724007 ]\n"
     ]
    }
   ],
   "source": [
    "print(a.T)"
   ]
  },
  {
   "cell_type": "code",
   "execution_count": 5,
   "id": "325f422c",
   "metadata": {},
   "outputs": [
    {
     "name": "stdout",
     "output_type": "stream",
     "text": [
      "7.855712007576736\n"
     ]
    }
   ],
   "source": [
    "print(np.dot(a,a.T))"
   ]
  },
  {
   "cell_type": "code",
   "execution_count": 6,
   "id": "0ad90a84",
   "metadata": {},
   "outputs": [
    {
     "name": "stdout",
     "output_type": "stream",
     "text": [
      "[[ 0.55922276]\n",
      " [ 1.19036226]\n",
      " [-0.90115643]\n",
      " [ 1.26442745]\n",
      " [-0.15307414]]\n"
     ]
    }
   ],
   "source": [
    "a = np.random.randn(5,1)\n",
    "print(a) # behave like coloumn vectors"
   ]
  },
  {
   "cell_type": "code",
   "execution_count": 7,
   "id": "29bf2e86",
   "metadata": {},
   "outputs": [
    {
     "name": "stdout",
     "output_type": "stream",
     "text": [
      "[[ 0.55922276  1.19036226 -0.90115643  1.26442745 -0.15307414]]\n"
     ]
    }
   ],
   "source": [
    "print(a.T)"
   ]
  },
  {
   "cell_type": "code",
   "execution_count": 8,
   "id": "b8d71111",
   "metadata": {},
   "outputs": [
    {
     "name": "stdout",
     "output_type": "stream",
     "text": [
      "[[ 0.3127301   0.66567767 -0.50394719  0.70709661 -0.08560254]\n",
      " [ 0.66567767  1.41696232 -1.07270261  1.50512672 -0.18221368]\n",
      " [-0.50394719 -1.07270261  0.81208291 -1.13944693  0.13794374]\n",
      " [ 0.70709661  1.50512672 -1.13944693  1.59877678 -0.19355114]\n",
      " [-0.08560254 -0.18221368  0.13794374 -0.19355114  0.02343169]]\n"
     ]
    }
   ],
   "source": [
    "print(np.dot(a,a.T))"
   ]
  },
  {
   "cell_type": "code",
   "execution_count": 10,
   "id": "6e2393d3",
   "metadata": {},
   "outputs": [],
   "source": [
    "assert(a.shape==(5,1))"
   ]
  },
  {
   "cell_type": "code",
   "execution_count": null,
   "id": "1c940178",
   "metadata": {},
   "outputs": [],
   "source": []
  }
 ],
 "metadata": {
  "kernelspec": {
   "display_name": "Python 3 (ipykernel)",
   "language": "python",
   "name": "python3"
  },
  "language_info": {
   "codemirror_mode": {
    "name": "ipython",
    "version": 3
   },
   "file_extension": ".py",
   "mimetype": "text/x-python",
   "name": "python",
   "nbconvert_exporter": "python",
   "pygments_lexer": "ipython3",
   "version": "3.9.12"
  }
 },
 "nbformat": 4,
 "nbformat_minor": 5
}
