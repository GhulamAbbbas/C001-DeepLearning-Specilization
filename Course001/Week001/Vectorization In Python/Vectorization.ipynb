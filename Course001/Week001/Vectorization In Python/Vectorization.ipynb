{
 "cells": [
  {
   "cell_type": "code",
   "execution_count": 2,
   "id": "d6597e8f",
   "metadata": {},
   "outputs": [
    {
     "name": "stdout",
     "output_type": "stream",
     "text": [
      "[1 2 3 4]\n"
     ]
    }
   ],
   "source": [
    "import numpy as np\n",
    "\n",
    "a= np.array([1, 2 , 3 ,4])\n",
    "print(a)"
   ]
  },
  {
   "cell_type": "code",
   "execution_count": 4,
   "id": "0157b26f",
   "metadata": {},
   "outputs": [
    {
     "name": "stdout",
     "output_type": "stream",
     "text": [
      "24991.331909616238\n",
      "vectorized version:0.9987354278564453ms\n",
      "24991.331909616118\n",
      "for loop:12292.623519897461ms\n"
     ]
    }
   ],
   "source": [
    "import time\n",
    "\n",
    "a= np.random.rand(100000)\n",
    "b= np.random.rand(100000)\n",
    "\n",
    "tic= time.time()\n",
    "c= np.dot(a,b)\n",
    "toc= time.time()\n",
    "print(c)\n",
    "print(\"vectorized version:\" + str(1000*(toc-tic)) + \"ms\")\n",
    "\n",
    "c= 0\n",
    "tic= time.time()\n",
    "for i in range(100000):\n",
    "    c+= a[i]*b[i]\n",
    "toc= time.time()\n",
    "print(c)\n",
    "print(\"for loop:\" +str(100000*(toc-tic))+ \"ms\")\n",
    "\n"
   ]
  },
  {
   "cell_type": "code",
   "execution_count": null,
   "id": "5c402a25",
   "metadata": {},
   "outputs": [],
   "source": []
  }
 ],
 "metadata": {
  "kernelspec": {
   "display_name": "Python 3 (ipykernel)",
   "language": "python",
   "name": "python3"
  },
  "language_info": {
   "codemirror_mode": {
    "name": "ipython",
    "version": 3
   },
   "file_extension": ".py",
   "mimetype": "text/x-python",
   "name": "python",
   "nbconvert_exporter": "python",
   "pygments_lexer": "ipython3",
   "version": "3.9.12"
  }
 },
 "nbformat": 4,
 "nbformat_minor": 5
}
